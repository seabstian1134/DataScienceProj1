{
 "cells": [
  {
   "cell_type": "markdown",
   "id": "3773ec0c-520b-4a6b-9365-75d02e364acd",
   "metadata": {},
   "source": [
    "# Data Science Tools and Ecosystem"
   ]
  },
  {
   "cell_type": "markdown",
   "id": "a3bc6b96-c2fb-4c93-9d1d-6f9a4b61aa04",
   "metadata": {},
   "source": [
    "In this notebook, Data Science Tools and Ecosystem are summarized."
   ]
  },
  {
   "cell_type": "markdown",
   "id": "f5e8b798-cc45-4bd3-8be2-afa94b38bd92",
   "metadata": {},
   "source": [
    "**Objectives**:\n",
    "- List Popular Languages for Data Science\n",
    "- List commonly used libraries for data science\n",
    "- Create a Markdown table\n",
    "- Perform simple arithmetic calculations in the Code cells"
   ]
  },
  {
   "cell_type": "markdown",
   "id": "7e139f18-7348-47ed-aa68-6ba289b88018",
   "metadata": {},
   "source": [
    "## Author\n",
    "Sebastian Schaefer"
   ]
  },
  {
   "cell_type": "markdown",
   "id": "d18fe85d-2b41-4543-afd6-d82a26d6aaa6",
   "metadata": {},
   "source": [
    "Some of the popular languages that Data Scientists use are:\n",
    "1. Python\n",
    "2. R\n",
    "3. SQL"
   ]
  },
  {
   "cell_type": "markdown",
   "id": "c3108208-b024-488d-8dd1-93ed620afc8d",
   "metadata": {},
   "source": [
    "Some of the commonly used libraries used by Data Scientists include:\n",
    "1. scikit-learn\n",
    "2. Numpy\n",
    "3. matplotlib\n",
    "4. Pandas\n",
    "5. ggplot\n",
    "6. Caret "
   ]
  },
  {
   "cell_type": "markdown",
   "id": "916e94d0-f0ec-45fe-b325-e0f027ceef41",
   "metadata": {},
   "source": [
    "| Data Science Tools |\n",
    "-----------------\n",
    "| Jupyter Notebook |\n",
    "| Spyder |\n",
    "| IPython |\n",
    "| Apache Spark |\n",
    "| GitHub |\n",
    "-----------------"
   ]
  },
  {
   "cell_type": "markdown",
   "id": "a3ba1744-98bc-4027-bca8-0fc0aa928d68",
   "metadata": {},
   "source": [
    "### Below are a few examples of evaluating arithmetic expressions in Python"
   ]
  },
  {
   "cell_type": "code",
   "execution_count": 11,
   "id": "cfab8c4f-409a-4520-b264-f7e6b7c658cd",
   "metadata": {},
   "outputs": [
    {
     "data": {
      "text/plain": [
       "17"
      ]
     },
     "execution_count": 11,
     "metadata": {},
     "output_type": "execute_result"
    }
   ],
   "source": [
    "#This a simple arithmetic expression to mutiply then add integers\n",
    "(3*4)+5"
   ]
  },
  {
   "cell_type": "code",
   "execution_count": 12,
   "id": "83a6e10e-7dd2-4ee0-b7b2-8c2b9336ccde",
   "metadata": {},
   "outputs": [
    {
     "name": "stdout",
     "output_type": "stream",
     "text": [
      "3.3333333333333335 Hours\n"
     ]
    }
   ],
   "source": [
    "#This will convert 200 minutes to hours by diving by 60\n",
    "Hours=200/60\n",
    "print(Hours, 'Hours')"
   ]
  },
  {
   "cell_type": "code",
   "execution_count": null,
   "id": "56350c97-7d03-4aa2-accc-1bc5c8bb38b3",
   "metadata": {},
   "outputs": [],
   "source": []
  }
 ],
 "metadata": {
  "kernelspec": {
   "display_name": "Python 3 (ipykernel)",
   "language": "python",
   "name": "python3"
  },
  "language_info": {
   "codemirror_mode": {
    "name": "ipython",
    "version": 3
   },
   "file_extension": ".py",
   "mimetype": "text/x-python",
   "name": "python",
   "nbconvert_exporter": "python",
   "pygments_lexer": "ipython3",
   "version": "3.11.9"
  }
 },
 "nbformat": 4,
 "nbformat_minor": 5
}
